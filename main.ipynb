{
 "cells": [
  {
   "cell_type": "code",
   "execution_count": 7,
   "id": "700f8726",
   "metadata": {},
   "outputs": [],
   "source": [
    "#import webbrowser\n",
    "import speech_recognition as sr\n",
    "import pyttsx3\n",
    "import pywhatkit\n",
    "import datetime\n",
    "import wikipedia"
   ]
  },
  {
   "cell_type": "code",
   "execution_count": 8,
   "id": "a7235770",
   "metadata": {},
   "outputs": [],
   "source": [
    "listener = sr.Recognizer()\n",
    "engine = pyttsx3.init()\n",
    "voices = engine.getProperty('voices')\n",
    "engine.setProperty(\"voice\",voices[0].id)"
   ]
  },
  {
   "cell_type": "code",
   "execution_count": 9,
   "id": "0ded98fd",
   "metadata": {},
   "outputs": [],
   "source": [
    "def talk(text):\n",
    "    engine.say(text)\n",
    "    engine.runAndWait()"
   ]
  },
  {
   "cell_type": "code",
   "execution_count": 10,
   "id": "a4365882",
   "metadata": {},
   "outputs": [],
   "source": [
    "def take_command():\n",
    "    cmd=\"\"\n",
    "    try:\n",
    "        with sr.Microphone() as source:\n",
    "            print('listening...')\n",
    "            #time.sleep(10)\n",
    "            voice = listener.listen(source,None,10)\n",
    "            cmd = listener.recognize_google(voice)\n",
    "            cmd = cmd.lower()\n",
    "            if 'alice' in cmd:\n",
    "                cmd = cmd.replace('alice', '').replace('hey', '')\n",
    "    except:\n",
    "        pass\n",
    "    return cmd"
   ]
  },
  {
   "cell_type": "code",
   "execution_count": 11,
   "id": "b7594336",
   "metadata": {},
   "outputs": [],
   "source": [
    "def run_alice():\n",
    "    tmp=0\n",
    "    command = take_command()\n",
    "    print(command)\n",
    "    if 'profile' in command:\n",
    "        url = command.replace('open', '')\n",
    "        talk('opening ' + url)\n",
    "        url=url.replace('profile', '').replace('of', '')\n",
    "        webbrowser.open_new(\"https://codeforces.com/profile/\" + url)\n",
    "    elif 'show' and 'problem' and 'tag' in command:\n",
    "        url = command.replace('show ','').replace('me ','')\n",
    "        talk('Here is the ' + url)\n",
    "        url = url.replace('problem ','').replace('set ','').replace('tag ','').replace('with ','').replace(' ',',')\n",
    "        webbrowser.open_new(\"https://codeforces.com/problemset?tags=\" + url)\n",
    "    elif 'show' and 'problem' and 'range' in command:\n",
    "        url = command.replace('show','').replace('me','')\n",
    "        talk('Here is the ' + url)\n",
    "        res = [int(i) for i in url.split() if i.isdigit()]\n",
    "        webbrowser.open_new(\"https://codeforces.com/problemset?tags=\" + str(res[0]) + \"-\" + str(res[1]))\n",
    "    elif 'problem' in command:\n",
    "        url = command.replace('open','')\n",
    "        talk('opening ' + url)\n",
    "        url=url.replace('problem', '').replace('codeforce','').replace('from','')\n",
    "        num = \"\"\n",
    "        for c in url:\n",
    "            if c.isdigit():\n",
    "                num = num + c\n",
    "        url=url.replace(num, '')\n",
    "        webbrowser.open_new(\"https://codeforces.com/problemset/problem/\" + num + \"/\" + url)\n",
    "    \n",
    "    elif 'play' in command:\n",
    "        song = command.replace('play', '')\n",
    "        talk('playing ' + song)\n",
    "        pywhatkit.playonyt(song)\n",
    "    elif 'time' in command:\n",
    "        time = datetime.datetime.now().strftime('%I:%M %p')\n",
    "        talk('Current time is ' + time)\n",
    "    elif 'who is' in command:\n",
    "        person = command.replace('who is', '')\n",
    "        info = wikipedia.summary(person, 1)\n",
    "        print(info)\n",
    "        talk(info)\n",
    "    elif 'open' in command:\n",
    "        url = command.replace('open', '')\n",
    "        talk('opening ' + url)\n",
    "        url=\"https://\"+url\n",
    "        url=url.replace(' ', '')\n",
    "        webbrowser.open_new(url)\n",
    "    elif 'stop' in command:\n",
    "        tmp=1;\n",
    "    else:\n",
    "        talk(\"Please say again\")\n",
    "    return tmp"
   ]
  },
  {
   "cell_type": "code",
   "execution_count": null,
   "id": "7fb3728d",
   "metadata": {
    "scrolled": true
   },
   "outputs": [
    {
     "name": "stdout",
     "output_type": "stream",
     "text": [
      "listening...\n"
     ]
    }
   ],
   "source": [
    "while True:\n",
    "    tmp=run_alice()\n",
    "    if(tmp==1):\n",
    "        break"
   ]
  },
  {
   "cell_type": "code",
   "execution_count": null,
   "id": "e3e8ffbc",
   "metadata": {},
   "outputs": [],
   "source": []
  }
 ],
 "metadata": {
  "kernelspec": {
   "display_name": "Python 3 (ipykernel)",
   "language": "python",
   "name": "python3"
  },
  "language_info": {
   "codemirror_mode": {
    "name": "ipython",
    "version": 3
   },
   "file_extension": ".py",
   "mimetype": "text/x-python",
   "name": "python",
   "nbconvert_exporter": "python",
   "pygments_lexer": "ipython3",
   "version": "3.10.8"
  }
 },
 "nbformat": 4,
 "nbformat_minor": 5
}
