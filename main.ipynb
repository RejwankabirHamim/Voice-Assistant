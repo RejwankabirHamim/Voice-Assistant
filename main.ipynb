{
 "cells": [
  {
   "cell_type": "code",
   "execution_count": 1,
   "id": "700f8726",
   "metadata": {},
   "outputs": [],
   "source": [
    "#import webbrowser\n",
    "import speech_recognition as sr\n",
    "import pyttsx3\n",
    "import pywhatkit\n",
    "import datetime\n",
    "import wikipedia"
   ]
  },
  {
   "cell_type": "code",
   "execution_count": 2,
   "id": "a7235770",
   "metadata": {},
   "outputs": [],
   "source": [
    "listener = sr.Recognizer()\n",
    "engine = pyttsx3.init()\n",
    "voices = engine.getProperty('voices')\n",
    "engine.setProperty(\"voice\",voices[0].id)"
   ]
  },
  {
   "cell_type": "code",
   "execution_count": 3,
   "id": "0ded98fd",
   "metadata": {},
   "outputs": [],
   "source": [
    "def talk(text):\n",
    "    engine.say(text)\n",
    "    engine.runAndWait()"
   ]
  },
  {
   "cell_type": "code",
   "execution_count": 4,
   "id": "a4365882",
   "metadata": {},
   "outputs": [],
   "source": [
    "def take_command():\n",
    "    cmd=\"\"\n",
    "    try:\n",
    "        with sr.Microphone() as source:\n",
    "            print('listening...')\n",
    "            #time.sleep(10)\n",
    "            voice = listener.listen(source,None,10)\n",
    "            cmd = listener.recognize_google(voice)\n",
    "            cmd = cmd.lower()\n",
    "            if 'alice' in cmd:\n",
    "                cmd = cmd.replace('alice', '').replace('hey', '')\n",
    "    except:\n",
    "        pass\n",
    "    return cmd"
   ]
  },
  {
   "cell_type": "code",
   "execution_count": 5,
   "id": "b7594336",
   "metadata": {},
   "outputs": [],
   "source": [
    "def run_alice():\n",
    "    tmp=0\n",
    "    command = take_command()\n",
    "    print(command)\n",
    "    if 'profile' in command:\n",
    "        url = command.replace('open', '')\n",
    "        talk('opening ' + url)\n",
    "        url=url.replace('profile', '').replace('of', '')\n",
    "        webbrowser.open_new(\"https://codeforces.com/profile/\" + url)\n",
    "    elif 'show' and 'problem' and 'tag' in command:\n",
    "        url = command.replace('show ','').replace('me ','')\n",
    "        talk('Here is the ' + url)\n",
    "        url = url.replace('problem ','').replace('set ','').replace('tag ','').replace('with ','').replace(' ',',')\n",
    "        webbrowser.open_new(\"https://codeforces.com/problemset?tags=\" + url)\n",
    "    elif 'show' and 'problem' and 'range' in command:\n",
    "        url = command.replace('show','').replace('me','')\n",
    "        talk('Here is the ' + url)\n",
    "        res = [int(i) for i in url.split() if i.isdigit()]\n",
    "        webbrowser.open_new(\"https://codeforces.com/problemset?tags=\" + str(res[0]) + \"-\" + str(res[1]))\n",
    "    elif 'problem' in command:\n",
    "        url = command.replace('open','')\n",
    "        talk('opening ' + url)\n",
    "        url=url.replace('problem', '').replace('codeforce','').replace('from','')\n",
    "        num = \"\"\n",
    "        for c in url:\n",
    "            if c.isdigit():\n",
    "                num = num + c\n",
    "        url=url.replace(num, '')\n",
    "        webbrowser.open_new(\"https://codeforces.com/problemset/problem/\" + num + \"/\" + url)\n",
    "    \n",
    "    elif 'play' in command:\n",
    "        song = command.replace('play', '')\n",
    "        talk('playing ' + song)\n",
    "        pywhatkit.playonyt(song)\n",
    "    elif 'time' in command:\n",
    "        time = datetime.datetime.now().strftime('%I:%M %p')\n",
    "        talk('Current time is ' + time)\n",
    "    elif 'who is' in command:\n",
    "        person = command.replace('who is', '')\n",
    "        info = wikipedia.summary(person, 1)\n",
    "        print(info)\n",
    "        talk(info)\n",
    "    elif 'open' in command:\n",
    "        url = command.replace('open', '')\n",
    "        talk('opening ' + url)\n",
    "        url=\"https://\"+url\n",
    "        url=url.replace(' ', '')\n",
    "        webbrowser.open_new(url)\n",
    "    elif 'stop' in command:\n",
    "        tmp=1;\n",
    "    else:\n",
    "        talk(\"Please say again\")\n",
    "    return tmp"
   ]
  },
  {
   "cell_type": "code",
   "execution_count": 6,
   "id": "7fb3728d",
   "metadata": {
    "scrolled": true
   },
   "outputs": [
    {
     "name": "stdout",
     "output_type": "stream",
     "text": [
      "listening...\n",
      "result2:\n",
      "{   'alternative': [   {'transcript': 'hey Alice'},\n",
      "                       {'transcript': 'hey alis'},\n",
      "                       {'transcript': '40'},\n",
      "                       {'transcript': 'hey Alisha'}],\n",
      "    'final': True}\n",
      " \n",
      "listening...\n",
      "result2:\n",
      "{   'alternative': [   {'transcript': 'kidney profile of tourist'},\n",
      "                       {'transcript': 'give me profile of tourist'},\n",
      "                       {'transcript': 'Google profile of tourist'}],\n",
      "    'final': True}\n",
      "kidney profile of tourist\n"
     ]
    },
    {
     "ename": "NameError",
     "evalue": "name 'webbrowser' is not defined",
     "output_type": "error",
     "traceback": [
      "\u001b[1;31m---------------------------------------------------------------------------\u001b[0m",
      "\u001b[1;31mNameError\u001b[0m                                 Traceback (most recent call last)",
      "Cell \u001b[1;32mIn[6], line 2\u001b[0m\n\u001b[0;32m      1\u001b[0m \u001b[38;5;28;01mwhile\u001b[39;00m \u001b[38;5;28;01mTrue\u001b[39;00m:\n\u001b[1;32m----> 2\u001b[0m     tmp\u001b[38;5;241m=\u001b[39m\u001b[43mrun_alice\u001b[49m\u001b[43m(\u001b[49m\u001b[43m)\u001b[49m\n\u001b[0;32m      3\u001b[0m     \u001b[38;5;28;01mif\u001b[39;00m(tmp\u001b[38;5;241m==\u001b[39m\u001b[38;5;241m1\u001b[39m):\n\u001b[0;32m      4\u001b[0m         \u001b[38;5;28;01mbreak\u001b[39;00m\n",
      "Cell \u001b[1;32mIn[5], line 9\u001b[0m, in \u001b[0;36mrun_alice\u001b[1;34m()\u001b[0m\n\u001b[0;32m      7\u001b[0m     talk(\u001b[38;5;124m'\u001b[39m\u001b[38;5;124mopening \u001b[39m\u001b[38;5;124m'\u001b[39m \u001b[38;5;241m+\u001b[39m url)\n\u001b[0;32m      8\u001b[0m     url\u001b[38;5;241m=\u001b[39murl\u001b[38;5;241m.\u001b[39mreplace(\u001b[38;5;124m'\u001b[39m\u001b[38;5;124mprofile\u001b[39m\u001b[38;5;124m'\u001b[39m, \u001b[38;5;124m'\u001b[39m\u001b[38;5;124m'\u001b[39m)\u001b[38;5;241m.\u001b[39mreplace(\u001b[38;5;124m'\u001b[39m\u001b[38;5;124mof\u001b[39m\u001b[38;5;124m'\u001b[39m, \u001b[38;5;124m'\u001b[39m\u001b[38;5;124m'\u001b[39m)\n\u001b[1;32m----> 9\u001b[0m     \u001b[43mwebbrowser\u001b[49m\u001b[38;5;241m.\u001b[39mopen_new(\u001b[38;5;124m\"\u001b[39m\u001b[38;5;124mhttps://codeforces.com/profile/\u001b[39m\u001b[38;5;124m\"\u001b[39m \u001b[38;5;241m+\u001b[39m url)\n\u001b[0;32m     10\u001b[0m \u001b[38;5;28;01melif\u001b[39;00m \u001b[38;5;124m'\u001b[39m\u001b[38;5;124mshow\u001b[39m\u001b[38;5;124m'\u001b[39m \u001b[38;5;129;01mand\u001b[39;00m \u001b[38;5;124m'\u001b[39m\u001b[38;5;124mproblem\u001b[39m\u001b[38;5;124m'\u001b[39m \u001b[38;5;129;01mand\u001b[39;00m \u001b[38;5;124m'\u001b[39m\u001b[38;5;124mtag\u001b[39m\u001b[38;5;124m'\u001b[39m \u001b[38;5;129;01min\u001b[39;00m command:\n\u001b[0;32m     11\u001b[0m     url \u001b[38;5;241m=\u001b[39m command\u001b[38;5;241m.\u001b[39mreplace(\u001b[38;5;124m'\u001b[39m\u001b[38;5;124mshow \u001b[39m\u001b[38;5;124m'\u001b[39m,\u001b[38;5;124m'\u001b[39m\u001b[38;5;124m'\u001b[39m)\u001b[38;5;241m.\u001b[39mreplace(\u001b[38;5;124m'\u001b[39m\u001b[38;5;124mme \u001b[39m\u001b[38;5;124m'\u001b[39m,\u001b[38;5;124m'\u001b[39m\u001b[38;5;124m'\u001b[39m)\n",
      "\u001b[1;31mNameError\u001b[0m: name 'webbrowser' is not defined"
     ]
    }
   ],
   "source": [
    "while True:\n",
    "    tmp=run_alice()\n",
    "    if(tmp==1):\n",
    "        break"
   ]
  },
  {
   "cell_type": "code",
   "execution_count": null,
   "id": "e3e8ffbc",
   "metadata": {},
   "outputs": [],
   "source": []
  }
 ],
 "metadata": {
  "kernelspec": {
   "display_name": "Python 3 (ipykernel)",
   "language": "python",
   "name": "python3"
  },
  "language_info": {
   "codemirror_mode": {
    "name": "ipython",
    "version": 3
   },
   "file_extension": ".py",
   "mimetype": "text/x-python",
   "name": "python",
   "nbconvert_exporter": "python",
   "pygments_lexer": "ipython3",
   "version": "3.10.8"
  }
 },
 "nbformat": 4,
 "nbformat_minor": 5
}
